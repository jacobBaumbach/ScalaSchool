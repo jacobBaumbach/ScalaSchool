{
 "cells": [
  {
   "cell_type": "markdown",
   "metadata": {},
   "source": [
    "# Scala School - Extending Examples\n",
    "\n",
    "This is some of the code I wrote while following along with the [Scala School](http://twitter.github.io/scala_school/) tutorials.  I tried to combine multiple examples and extend them with other examples/things I already know about Scala."
   ]
  },
  {
   "cell_type": "markdown",
   "metadata": {},
   "source": [
    "## Table of Contents\n",
    "- [Implement Generic map](#section1)\n",
    "- [Implement Generic andThen and Compose](#section2)\n",
    "- [Test my Map, andThen and Compose functions](#section3)\n",
    "- [Case Class, Pattern Matching, Partial Functions, orElse](#section4)\n",
    "- [Variance and Bounds](#section5)"
   ]
  },
  {
   "cell_type": "markdown",
   "metadata": {},
   "source": [
    "<a id='section1'></a>"
   ]
  },
  {
   "cell_type": "markdown",
   "metadata": {},
   "source": [
    "### Implement Generic map"
   ]
  },
  {
   "cell_type": "code",
   "execution_count": 86,
   "metadata": {
    "collapsed": false
   },
   "outputs": [
    {
     "data": {
      "text/plain": [
       "defined \u001b[32mfunction \u001b[36mourMap\u001b[0m"
      ]
     },
     "metadata": {},
     "output_type": "display_data"
    }
   ],
   "source": [
    "def ourMap[T,K](numbers:Iterable[T], fn: T=>K)={\n",
    "    //implementation of List's built in function map pass list and function\n",
    "    //that outputs either the same or a different type and a list of\n",
    "    //the function's output type will be returned since fn will be applied\n",
    "    //to every element\n",
    "    \n",
    "    numbers.foldLeft(Iterable[K]()){\n",
    "        (xs:Iterable[K],x:T) => xs++Iterable(fn(x))}\n",
    "    }"
   ]
  },
  {
   "cell_type": "markdown",
   "metadata": {},
   "source": [
    "<a id='section2'></a>"
   ]
  },
  {
   "cell_type": "markdown",
   "metadata": {},
   "source": [
    "### Implement Generic andThen and Compose"
   ]
  },
  {
   "cell_type": "code",
   "execution_count": 78,
   "metadata": {
    "collapsed": false
   },
   "outputs": [
    {
     "data": {
      "text/plain": [
       "defined \u001b[32mfunction \u001b[36mfandThenG\u001b[0m"
      ]
     },
     "metadata": {},
     "output_type": "display_data"
    }
   ],
   "source": [
    "def fandThenG[T,K,L](f:T => K,g: K=>L) = f andThen g\n",
    "//generic implementation of composing functions using andthen"
   ]
  },
  {
   "cell_type": "code",
   "execution_count": 79,
   "metadata": {
    "collapsed": false
   },
   "outputs": [
    {
     "data": {
      "text/plain": [
       "defined \u001b[32mfunction \u001b[36mfComposeG\u001b[0m"
      ]
     },
     "metadata": {},
     "output_type": "display_data"
    }
   ],
   "source": [
    "def fComposeG[T,K,L](f:T => K,g: K=>L) = g compose f\n",
    "//generic implementation of composing functions using compose"
   ]
  },
  {
   "cell_type": "markdown",
   "metadata": {},
   "source": [
    "<a id='section3'></a>"
   ]
  },
  {
   "cell_type": "markdown",
   "metadata": {},
   "source": [
    "### Test my Map, andThen and Compose functions"
   ]
  },
  {
   "cell_type": "code",
   "execution_count": 80,
   "metadata": {
    "collapsed": false
   },
   "outputs": [
    {
     "data": {
      "text/plain": [
       "\u001b[36mquinandThenString\u001b[0m: \u001b[32mInt\u001b[0m => \u001b[32mString\u001b[0m = <function1>"
      ]
     },
     "metadata": {},
     "output_type": "display_data"
    }
   ],
   "source": [
    "val quinandThenString = fandThenG(fandThenG({x:Int => x*x},\n",
    "                                            {y:Int => y*y*y}),\n",
    "                                            {z:Int => z.toString})\n",
    "//test function for fandThenG\n",
    "//an Int will be squared, then cubed, then converted to a string"
   ]
  },
  {
   "cell_type": "code",
   "execution_count": 81,
   "metadata": {
    "collapsed": false
   },
   "outputs": [
    {
     "data": {
      "text/plain": [
       "\u001b[36mquinComposeString\u001b[0m: \u001b[32mInt\u001b[0m => \u001b[32mString\u001b[0m = <function1>"
      ]
     },
     "metadata": {},
     "output_type": "display_data"
    }
   ],
   "source": [
    "val quinComposeString = fComposeG(fComposeG({x:Int => x*x}, \n",
    "                                            {y:Int => y*y*y}),\n",
    "                                            {z:Int => z.toString})\n",
    "//test function for fComposeG\n",
    "//an Int will be squared, then cubed, then converted to a string"
   ]
  },
  {
   "cell_type": "code",
   "execution_count": 87,
   "metadata": {
    "collapsed": false
   },
   "outputs": [
    {
     "data": {
      "text/plain": [
       "\u001b[36mres69\u001b[0m: \u001b[32mIterable\u001b[0m[\u001b[32mString\u001b[0m] = \u001b[33mList\u001b[0m(\n",
       "  \u001b[32m\"1\"\u001b[0m,\n",
       "  \u001b[32m\"64\"\u001b[0m,\n",
       "  \u001b[32m\"729\"\u001b[0m,\n",
       "  \u001b[32m\"4096\"\u001b[0m,\n",
       "  \u001b[32m\"15625\"\u001b[0m,\n",
       "  \u001b[32m\"46656\"\u001b[0m,\n",
       "  \u001b[32m\"117649\"\u001b[0m,\n",
       "  \u001b[32m\"262144\"\u001b[0m,\n",
       "  \u001b[32m\"531441\"\u001b[0m,\n",
       "  \u001b[32m\"1000000\"\u001b[0m\n",
       ")"
      ]
     },
     "metadata": {},
     "output_type": "display_data"
    }
   ],
   "source": [
    "ourMap(1.to(10), quinandThenString)\n",
    "//test for ourMap and fandThenG\n",
    "//each element of the list will be raised to the fifth and converted\n",
    "//to a string"
   ]
  },
  {
   "cell_type": "code",
   "execution_count": 92,
   "metadata": {
    "collapsed": false
   },
   "outputs": [
    {
     "data": {
      "text/plain": [
       "\u001b[36marrayTest\u001b[0m: \u001b[32mArray\u001b[0m[\u001b[32mInt\u001b[0m] = \u001b[33mArray\u001b[0m(\n",
       "  \u001b[32m1\u001b[0m,\n",
       "  \u001b[32m2\u001b[0m,\n",
       "  \u001b[32m3\u001b[0m,\n",
       "  \u001b[32m4\u001b[0m,\n",
       "  \u001b[32m5\u001b[0m,\n",
       "  \u001b[32m6\u001b[0m,\n",
       "  \u001b[32m7\u001b[0m,\n",
       "  \u001b[32m8\u001b[0m,\n",
       "  \u001b[32m9\u001b[0m,\n",
       "  \u001b[32m10\u001b[0m\n",
       ")\n",
       "\u001b[36mres73_1\u001b[0m: \u001b[32mIterable\u001b[0m[\u001b[32mString\u001b[0m] = \u001b[33mList\u001b[0m(\n",
       "  \u001b[32m\"1\"\u001b[0m,\n",
       "  \u001b[32m\"64\"\u001b[0m,\n",
       "  \u001b[32m\"729\"\u001b[0m,\n",
       "  \u001b[32m\"4096\"\u001b[0m,\n",
       "  \u001b[32m\"15625\"\u001b[0m,\n",
       "  \u001b[32m\"46656\"\u001b[0m,\n",
       "  \u001b[32m\"117649\"\u001b[0m,\n",
       "  \u001b[32m\"262144\"\u001b[0m,\n",
       "  \u001b[32m\"531441\"\u001b[0m,\n",
       "  \u001b[32m\"1000000\"\u001b[0m\n",
       ")"
      ]
     },
     "metadata": {},
     "output_type": "display_data"
    }
   ],
   "source": [
    "val arrayTest = 1.to(10).toArray\n",
    "ourMap(arrayTest, quinComposeString)\n",
    "//test for ourMap and fComposeG\n",
    "//each element of the list will be raised to the fifth and converted\n",
    "//to a string"
   ]
  },
  {
   "cell_type": "markdown",
   "metadata": {},
   "source": [
    "<a id='section4'></a>"
   ]
  },
  {
   "cell_type": "markdown",
   "metadata": {},
   "source": [
    "### Case Class, Pattern Matching, Partial Functions, orElse"
   ]
  },
  {
   "cell_type": "code",
   "execution_count": 42,
   "metadata": {
    "collapsed": false
   },
   "outputs": [
    {
     "data": {
      "text/plain": [
       "defined \u001b[32mclass \u001b[36mItem\u001b[0m"
      ]
     },
     "metadata": {},
     "output_type": "display_data"
    }
   ],
   "source": [
    "case class Item(id:Long,action:String,stock:Int)//case class for an item\n",
    "//id would contain a unique identifier for the item, action is what we\n",
    "//would like performed on the item's stock and stock is the amount of \n",
    "//the item we have"
   ]
  },
  {
   "cell_type": "code",
   "execution_count": 48,
   "metadata": {
    "collapsed": false
   },
   "outputs": [
    {
     "data": {
      "text/plain": [
       "\u001b[36malreadyCompleted\u001b[0m: \u001b[32mPartialFunction\u001b[0m[\u001b[32mItem\u001b[0m, \u001b[32mItem\u001b[0m] = <function1>"
      ]
     },
     "metadata": {},
     "output_type": "display_data"
    }
   ],
   "source": [
    "val alreadyCompleted: PartialFunction[Item,Item] = {\n",
    "    case i if i.action.contains(\"Completed_\") =>\n",
    "                                            println(\"Already Completed!\")\n",
    "                                            i\n",
    "    \n",
    "}\n",
    "//Partial function checks if action already completed and if so returns new\n",
    "//prints the action was completed and returns original instance of Item"
   ]
  },
  {
   "cell_type": "code",
   "execution_count": 47,
   "metadata": {
    "collapsed": false
   },
   "outputs": [
    {
     "data": {
      "text/plain": [
       "\u001b[36mdoubleStock\u001b[0m: \u001b[32mPartialFunction\u001b[0m[\u001b[32mItem\u001b[0m, \u001b[32mItem\u001b[0m] = <function1>"
      ]
     },
     "metadata": {},
     "output_type": "display_data"
    }
   ],
   "source": [
    "val doubleStock: PartialFunction[Item,Item] = {\n",
    "    case i if i.action==\"double\" => \n",
    "                                Item(i.id,\"Completed_\"+i.action, i.stock*2)\n",
    "                                     }\n",
    "//Partial function checks if wanted supply doubled and if so returns new\n",
    "//instance of item declaring action completed and doubles stock"
   ]
  },
  {
   "cell_type": "code",
   "execution_count": 67,
   "metadata": {
    "collapsed": false
   },
   "outputs": [
    {
     "data": {
      "text/plain": [
       "\u001b[36moneLessStock\u001b[0m: \u001b[32mPartialFunction\u001b[0m[\u001b[32mItem\u001b[0m, \u001b[32mItem\u001b[0m] = <function1>"
      ]
     },
     "metadata": {},
     "output_type": "display_data"
    }
   ],
   "source": [
    "val oneLessStock:PartialFunction[Item,Item]={\n",
    "    case i if i.action==\"oneLess\" => i.stock match {\n",
    "        case 0 => {\n",
    "            println(s\"${i.id} has a stock of 0!\")\n",
    "            i\n",
    "        }\n",
    "        case _ => Item(i.id,\"Completed\"+i.action,i.stock-1)\n",
    "    } \n",
    "}\n",
    "//Partial function checks if wanted one less and if so returns checks\n",
    "//if stock is nonzero.  If the balance is zero an error is printed\n",
    "//and the original Item instance is returned otherwise a new Item is\n",
    "//returned where stock is decrimented by one"
   ]
  },
  {
   "cell_type": "code",
   "execution_count": 71,
   "metadata": {
    "collapsed": false
   },
   "outputs": [
    {
     "data": {
      "text/plain": [
       "\u001b[36mwildCard\u001b[0m: \u001b[32mPartialFunction\u001b[0m[\u001b[32mItem\u001b[0m, \u001b[32mItem\u001b[0m] = <function1>"
      ]
     },
     "metadata": {},
     "output_type": "display_data"
    }
   ],
   "source": [
    "val wildCard: PartialFunction[Item, Item]={\n",
    "    case i =>{\n",
    "        println(s\"${i.action} cannot be performed\")\n",
    "        i\n",
    "    }\n",
    "}\n",
    "//Partial function that catches all remaining actions, prints an error \n",
    "//message and returns the instance of Item that was passed"
   ]
  },
  {
   "cell_type": "code",
   "execution_count": 72,
   "metadata": {
    "collapsed": false
   },
   "outputs": [
    {
     "data": {
      "text/plain": [
       "\u001b[36mallActions\u001b[0m: \u001b[32mPartialFunction\u001b[0m[\u001b[32mItem\u001b[0m, \u001b[32mItem\u001b[0m] = <function1>"
      ]
     },
     "metadata": {},
     "output_type": "display_data"
    }
   ],
   "source": [
    "val allActions = alreadyCompleted orElse doubleStock orElse \n",
    "                                            oneLessStock orElse wildCard \n",
    "//here I use orElse to compose my partial functions so that I now have\n",
    "//one function to perform any of my actions"
   ]
  },
  {
   "cell_type": "code",
   "execution_count": 60,
   "metadata": {
    "collapsed": false
   },
   "outputs": [
    {
     "name": "stdout",
     "output_type": "stream",
     "text": [
      "Already Completed!\n"
     ]
    },
    {
     "data": {
      "text/plain": [
       "\u001b[36mres45\u001b[0m: \u001b[32mItem\u001b[0m = \u001b[33mItem\u001b[0m(\u001b[32m1\u001b[0mL, \u001b[32m\"Completed_double\"\u001b[0m, \u001b[32m1\u001b[0m)"
      ]
     },
     "metadata": {},
     "output_type": "display_data"
    }
   ],
   "source": [
    "allActions(Item(1,\"Completed_double\",1))//test alreadyCompleted"
   ]
  },
  {
   "cell_type": "code",
   "execution_count": 61,
   "metadata": {
    "collapsed": false
   },
   "outputs": [
    {
     "data": {
      "text/plain": [
       "\u001b[36mres46\u001b[0m: \u001b[32mItem\u001b[0m = \u001b[33mItem\u001b[0m(\u001b[32m1\u001b[0mL, \u001b[32m\"Completed_double\"\u001b[0m, \u001b[32m2\u001b[0m)"
      ]
     },
     "metadata": {},
     "output_type": "display_data"
    }
   ],
   "source": [
    "allActions(Item(1,\"double\",1))// test doubleStock"
   ]
  },
  {
   "cell_type": "code",
   "execution_count": 65,
   "metadata": {
    "collapsed": false
   },
   "outputs": [
    {
     "data": {
      "text/plain": [
       "\u001b[36mres50\u001b[0m: \u001b[32mItem\u001b[0m = \u001b[33mItem\u001b[0m(\u001b[32m1\u001b[0mL, \u001b[32m\"CompletedoneLess\"\u001b[0m, \u001b[32m0\u001b[0m)"
      ]
     },
     "metadata": {},
     "output_type": "display_data"
    }
   ],
   "source": [
    "allActions(Item(1,\"oneLess\",1))// test oneLess"
   ]
  },
  {
   "cell_type": "code",
   "execution_count": 69,
   "metadata": {
    "collapsed": false
   },
   "outputs": [
    {
     "name": "stdout",
     "output_type": "stream",
     "text": [
      "1 has a stock of 0!\n"
     ]
    },
    {
     "data": {
      "text/plain": [
       "\u001b[36mres54\u001b[0m: \u001b[32mItem\u001b[0m = \u001b[33mItem\u001b[0m(\u001b[32m1\u001b[0mL, \u001b[32m\"oneLess\"\u001b[0m, \u001b[32m0\u001b[0m)"
      ]
     },
     "metadata": {},
     "output_type": "display_data"
    }
   ],
   "source": [
    "allActions(Item(1,\"oneLess\",0))// test oneLess"
   ]
  },
  {
   "cell_type": "code",
   "execution_count": 73,
   "metadata": {
    "collapsed": false
   },
   "outputs": [
    {
     "name": "stdout",
     "output_type": "stream",
     "text": [
      "wildCard cannot be performed\n"
     ]
    },
    {
     "data": {
      "text/plain": [
       "\u001b[36mres58\u001b[0m: \u001b[32mItem\u001b[0m = \u001b[33mItem\u001b[0m(\u001b[32m1\u001b[0mL, \u001b[32m\"wildCard\"\u001b[0m, \u001b[32m0\u001b[0m)"
      ]
     },
     "metadata": {},
     "output_type": "display_data"
    }
   ],
   "source": [
    "allActions(Item(1,\"wildCard\",0))// test wildCard"
   ]
  },
  {
   "cell_type": "markdown",
   "metadata": {},
   "source": [
    "<a id='section5'></a>"
   ]
  },
  {
   "cell_type": "markdown",
   "metadata": {},
   "source": [
    "### Variance and Bounds"
   ]
  },
  {
   "cell_type": "code",
   "execution_count": 108,
   "metadata": {
    "collapsed": false
   },
   "outputs": [
    {
     "data": {
      "text/plain": [
       "defined \u001b[32mclass \u001b[36mAnimal\u001b[0m\n",
       "defined \u001b[32mclass \u001b[36mDog\u001b[0m\n",
       "defined \u001b[32mclass \u001b[36mCat\u001b[0m\n",
       "defined \u001b[32mclass \u001b[36mFrenchBulldog\u001b[0m\n",
       "defined \u001b[32mclass \u001b[36mHuskie\u001b[0m"
      ]
     },
     "metadata": {},
     "output_type": "display_data"
    }
   ],
   "source": [
    "class Animal{val sound = \"anything\"}//create super class Animal\n",
    "class Dog extends Animal{override val sound = \"bark\"}//create class Dog subclass of Animal\n",
    "class Cat extends Animal{override val sound = \"meow\"}//create class Cat subclass of Animal\n",
    "class FrenchBulldog extends Dog{override val sound = \"squeak\"}//create class FrenchBulldog which is a subclass of Dog which is a subclass of Animal\n",
    "class Huskie extends Dog{override val sound = \"howl\"}//create class Huskie which is a subclass of Dog which is a subclass of Animal"
   ]
  },
  {
   "cell_type": "code",
   "execution_count": 110,
   "metadata": {
    "collapsed": false
   },
   "outputs": [
    {
     "data": {
      "text/plain": [
       "defined \u001b[32mfunction \u001b[36mgetAnimalNoise\u001b[0m"
      ]
     },
     "metadata": {},
     "output_type": "display_data"
    }
   ],
   "source": [
    "def getAnimalNoise[T <: Animal]:(T => String) = {a:Animal => a.sound}//return sound for any instance of a subclass of Animal"
   ]
  },
  {
   "cell_type": "code",
   "execution_count": 112,
   "metadata": {
    "collapsed": false
   },
   "outputs": [
    {
     "data": {
      "text/plain": [
       "\u001b[36mres87\u001b[0m: \u001b[32mList\u001b[0m[\u001b[32mString\u001b[0m] = \u001b[33mList\u001b[0m(\u001b[32m\"squeak\"\u001b[0m, \u001b[32m\"howl\"\u001b[0m, \u001b[32m\"meow\"\u001b[0m)"
      ]
     },
     "metadata": {},
     "output_type": "display_data"
    }
   ],
   "source": [
    "List(new FrenchBulldog, new Huskie,new Cat).map(getAnimalNoise)//test for getAnimalNoise function"
   ]
  },
  {
   "cell_type": "code",
   "execution_count": 120,
   "metadata": {
    "collapsed": false
   },
   "outputs": [
    {
     "data": {
      "text/plain": [
       "\u001b[36mfrenchBulldogPuppy\u001b[0m: () => \u001b[32mDog\u001b[0m = <function0>"
      ]
     },
     "metadata": {},
     "output_type": "display_data"
    }
   ],
   "source": [
    "val frenchBulldogPuppy : (() => Dog) = () => new FrenchBulldog//create a new instance of FrenchBulldog that is of type Dog"
   ]
  },
  {
   "cell_type": "code",
   "execution_count": 121,
   "metadata": {
    "collapsed": false
   },
   "outputs": [
    {
     "data": {
      "text/plain": [
       "\u001b[36mres91\u001b[0m: \u001b[32mDog\u001b[0m = cmd84$$user$FrenchBulldog@23725a1"
      ]
     },
     "metadata": {},
     "output_type": "display_data"
    }
   ],
   "source": [
    "frenchBulldogPuppy() //test of frenchBulldogPuppy"
   ]
  },
  {
   "cell_type": "code",
   "execution_count": null,
   "metadata": {
    "collapsed": true
   },
   "outputs": [],
   "source": []
  }
 ],
 "metadata": {
  "kernelspec": {
   "display_name": "Scala 2.11",
   "language": "scala211",
   "name": "scala211"
  },
  "language_info": {
   "codemirror_mode": "text/x-scala",
   "file_extension": ".scala",
   "mimetype": "text/x-scala",
   "name": "scala211",
   "pygments_lexer": "scala",
   "version": "2.11.6"
  }
 },
 "nbformat": 4,
 "nbformat_minor": 0
}
